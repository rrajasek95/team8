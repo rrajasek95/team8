{
 "cells": [
  {
   "cell_type": "code",
   "execution_count": 262,
   "metadata": {},
   "outputs": [
    {
     "data": {
      "text/plain": [
       "[\"My favorite character is Rocky because he's like a real person. He also has a lot of humorous lines.\",\n",
       " 'I think it was a pretty good entry in the Rocky series, not as good as the first film though.',\n",
       " 'My favorite character was Paulie.',\n",
       " \"One of the best sequels ever made. I'm not joking.\",\n",
       " 'Do you remember why Mister T was angry at Rocky?']"
      ]
     },
     "execution_count": 262,
     "metadata": {},
     "output_type": "execute_result"
    }
   ],
   "source": [
    "df1 = pd.read_json(path_to_dev)\n",
    "add_comments(df1, 'dv_2')"
   ]
  },
  {
   "cell_type": "code",
   "execution_count": 265,
   "metadata": {},
   "outputs": [],
   "source": [
    "import json\n",
    "import pandas as pd\n",
    "import random\n",
    "\n",
    "random.seed(3)\n",
    "state = random.getstate()\n",
    "\n",
    "def add_comments(df, chat_idx):\n",
    "    # return df.iloc[idx].loc['all_documents'].get('comments')\n",
    "    #df[df['chat_id'] == chat_idx][0]\n",
    "    #return random.sample(list(df.iloc[idx].loc['all_documents'].get('comments')), 5)\n",
    "    random.setstate(state)\n",
    "    candidates = set(df[df['chat_id'] == chat_idx].iloc[0].loc['all_documents'].get('comments'))\n",
    "    return random.sample(candidates, min(len(candidates),5))\n",
    "    \n",
    "def add_history(df, idx):\n",
    "    retval = []\n",
    "    if not df.full_history[idx] == ['NH']:\n",
    "        retval = df.full_history[idx].copy()\n",
    "    retval.append(df['query'][idx])\n",
    "    return retval\n",
    "\n",
    "def generate_candidates(df, idx):\n",
    "    imdb_idx = df.iloc[idx]['imdb_id']\n",
    "    temp = df[df['imdb_id'] != imdb_idx]\n",
    "    #print(list(temp.index))\n",
    "    retval = []\n",
    "    random.setstate(state)\n",
    "    for i in random.sample(list(temp.index), 2):\n",
    "        retval.append(df.iloc[i].loc['response'])\n",
    "    retval.append(df.iloc[idx].loc['response'])\n",
    "    return retval\n",
    "\n",
    "def get_utterance(df, idx):\n",
    "    return {\n",
    "        'candidates': generate_candidates(df, idx),\n",
    "        'history': add_history(df, idx)\n",
    "            }\n",
    "\n",
    "def get_utterance_list(df, chat_idx):\n",
    "    retval = []\n",
    "    index = list(df[df['chat_id'] == chat_idx].index)\n",
    "    #print(index)\n",
    "    for idx in index:\n",
    "        retval.append(get_utterance(df, idx))\n",
    "        \n",
    "    return retval\n",
    "\n",
    "def get_data_point(df, chat_idx):\n",
    "    return {\n",
    "                'personality': add_comments(df, chat_idx),\n",
    "                'utterances': get_utterance_list(df, chat_idx)\n",
    "            }\n",
    "\n",
    "    \n",
    "def transform_holle_data_by_path(path_to_df):\n",
    "    df = pd.read_json(path_to_df)\n",
    "    \n",
    "    #iterate thorugh chat_ids\n",
    "    chat_ids = set(df['chat_id'])\n",
    "    data = []\n",
    "    for chat_id in chat_ids:\n",
    "        data.append(get_data_point(df, chat_id))\n",
    "    \n",
    "    return data\n",
    "\n",
    "def transform_holle_data(path_to_train, path_to_dev):\n",
    "    \n",
    "    return {'train': transform_holle_data_by_path(path_to_train),\n",
    "            'valid': transform_holle_data_by_path(path_to_dev)}\n",
    "\n",
    "\n",
    "    \n"
   ]
  },
  {
   "cell_type": "code",
   "execution_count": 266,
   "metadata": {},
   "outputs": [
    {
     "name": "stdout",
     "output_type": "stream",
     "text": [
      "CPU times: user 21min 48s, sys: 1.05 s, total: 21min 49s\n",
      "Wall time: 21min 49s\n"
     ]
    }
   ],
   "source": [
    "%%time\n",
    "path_to_train = '../holle/raw_data/train_data.json'\n",
    "path_to_dev = '../holle/raw_data/dev_data.json'\n",
    "data = transform_holle_data(path_to_train, path_to_dev)"
   ]
  },
  {
   "cell_type": "code",
   "execution_count": 268,
   "metadata": {},
   "outputs": [
    {
     "data": {
      "text/plain": [
       "7226"
      ]
     },
     "execution_count": 268,
     "metadata": {},
     "output_type": "execute_result"
    }
   ],
   "source": [
    "len(data['train'])"
   ]
  },
  {
   "cell_type": "code",
   "execution_count": 269,
   "metadata": {},
   "outputs": [
    {
     "data": {
      "text/plain": [
       "930"
      ]
     },
     "execution_count": 269,
     "metadata": {},
     "output_type": "execute_result"
    }
   ],
   "source": [
    "len(data['valid'])"
   ]
  },
  {
   "cell_type": "code",
   "execution_count": 267,
   "metadata": {},
   "outputs": [
    {
     "name": "stdout",
     "output_type": "stream",
     "text": [
      "CPU times: user 532 ms, sys: 24 ms, total: 556 ms\n",
      "Wall time: 554 ms\n"
     ]
    }
   ],
   "source": [
    "%%time\n",
    "path_to_output = '../holle/huggingface_data.json'\n",
    "with open(path_to_output, 'w') as file:\n",
    "    json.dump(data, file)"
   ]
  },
  {
   "cell_type": "code",
   "execution_count": 270,
   "metadata": {},
   "outputs": [
    {
     "data": {
      "text/plain": [
       "dict_keys(['personality', 'utterances'])"
      ]
     },
     "execution_count": 270,
     "metadata": {},
     "output_type": "execute_result"
    }
   ],
   "source": [
    "data['valid'][0].keys()"
   ]
  },
  {
   "cell_type": "code",
   "execution_count": 383,
   "metadata": {},
   "outputs": [
    {
     "data": {
      "text/plain": [
       "['I think it was overrated.',\n",
       " 'I think it was not a good movie, and it did not do the character of Spider-Man justice.',\n",
       " \"My favorite character was Peter Parker, because of all the memes that came out of Tobey Maguire's performance.\",\n",
       " 'I liked the one in which Spider Man kisses Mary Jane.',\n",
       " 'My favorite character was Peter Parker.']"
      ]
     },
     "execution_count": 383,
     "metadata": {},
     "output_type": "execute_result"
    }
   ],
   "source": [
    "len(data['valid'][0]['personality'])\n",
    "random.sample(data['valid'][2]['personality'], 5)"
   ]
  },
  {
   "cell_type": "code",
   "execution_count": 390,
   "metadata": {},
   "outputs": [
    {
     "data": {
      "text/plain": [
       "{'Aside from a shaky final act, \"Insidious\" is a very scary and very fun haunted house thrill ride.',\n",
       " 'Do you remember who was dreaming out of their body and wondering or floating out of their body.',\n",
       " 'I just adore this movie, its the first one to scare me in a very long time and even repeat watches make me jump!',\n",
       " 'I liked the one in which the baby toys were playing by themselves.',\n",
       " 'I think it was awesome.',\n",
       " 'I will have trouble sleeping tonight...',\n",
       " 'My favorite character was the older lady who was able to see things no one else can.',\n",
       " \"Scariest Movie I've Seen In Years!\",\n",
       " 'So scary...',\n",
       " 'This is one of them horror films you enjoy but only the first time.',\n",
       " 'When it came out it was the best movie like it in a long time. I thought it was pretty well done.',\n",
       " '[t]he film begins with promise.'}"
      ]
     },
     "execution_count": 390,
     "metadata": {},
     "output_type": "execute_result"
    }
   ],
   "source": [
    "data['valid'][0]['personality']"
   ]
  },
  {
   "cell_type": "code",
   "execution_count": null,
   "metadata": {},
   "outputs": [],
   "source": [
    "I just adore this movie, its the first one to scare me in a very long time and even repeat watches make me jump!\n",
    "My favorite character was the older lady who was able to see things no one else can.\n",
    "Aside from a shaky final act, \"Insidious\" is a very scary and very fun haunted house thrill ride.\n",
    "I will have trouble sleeping tonight…\n",
    "Scariest Movie I've Seen In Years!\n"
   ]
  }
 ],
 "metadata": {
  "kernelspec": {
   "display_name": "Python 3",
   "language": "python",
   "name": "python3"
  },
  "language_info": {
   "codemirror_mode": {
    "name": "ipython",
    "version": 3
   },
   "file_extension": ".py",
   "mimetype": "text/x-python",
   "name": "python",
   "nbconvert_exporter": "python",
   "pygments_lexer": "ipython3",
   "version": "3.6.10"
  }
 },
 "nbformat": 4,
 "nbformat_minor": 4
}
